{
 "cells": [
  {
   "cell_type": "code",
   "execution_count": 1,
   "metadata": {},
   "outputs": [
    {
     "name": "stderr",
     "output_type": "stream",
     "text": [
      "/root/.cache/pypoetry/virtualenvs/langchain-tutorial-9TtSrW0h-py3.11/lib/python3.11/site-packages/tqdm/auto.py:21: TqdmWarning: IProgress not found. Please update jupyter and ipywidgets. See https://ipywidgets.readthedocs.io/en/stable/user_install.html\n",
      "  from .autonotebook import tqdm as notebook_tqdm\n"
     ]
    }
   ],
   "source": [
    "import pandas as pd\n",
    "from datasets import load_dataset\n",
    "\n",
    "from langchain import PromptTemplate, LLMChain\n",
    "from langchain.llms import GPT4All\n",
    "from langchain.callbacks.streaming_stdout import StreamingStdOutCallbackHandler\n",
    "from langchain import PromptTemplate\n",
    "from langchain.document_loaders import TextLoader\n",
    "from langchain import PromptTemplate\n",
    "from langchain.callbacks.streaming_stdout import StreamingStdOutCallbackHandler\n",
    "\n",
    "from langchain.document_loaders import TextLoader\n",
    "from langchain.indexes import VectorstoreIndexCreator\n",
    "from langchain.embeddings import HuggingFaceEmbeddings\n",
    "\n",
    "import gpt4all"
   ]
  },
  {
   "cell_type": "code",
   "execution_count": 2,
   "metadata": {},
   "outputs": [
    {
     "name": "stderr",
     "output_type": "stream",
     "text": [
      "Found cached dataset medical_dialog (/root/.cache/huggingface/datasets/medical_dialog/processed.en/2.0.0/0e925f6f3a036cf46434ddd9e73e9a69bfc91dd467825560d27f04c4e226cba6)\n",
      "100%|██████████| 3/3 [00:00<00:00, 835.13it/s]\n"
     ]
    }
   ],
   "source": [
    "# Download the medical_dialog dataset from Hugging Face\n",
    "dataset = load_dataset(\"medical_dialog\", \"processed.en\")"
   ]
  },
  {
   "cell_type": "code",
   "execution_count": 3,
   "metadata": {},
   "outputs": [],
   "source": [
    "df = pd.DataFrame(dataset[\"train\"])"
   ]
  },
  {
   "cell_type": "code",
   "execution_count": 4,
   "metadata": {},
   "outputs": [
    {
     "data": {
      "text/html": [
       "<div>\n",
       "<style scoped>\n",
       "    .dataframe tbody tr th:only-of-type {\n",
       "        vertical-align: middle;\n",
       "    }\n",
       "\n",
       "    .dataframe tbody tr th {\n",
       "        vertical-align: top;\n",
       "    }\n",
       "\n",
       "    .dataframe thead th {\n",
       "        text-align: right;\n",
       "    }\n",
       "</style>\n",
       "<table border=\"1\" class=\"dataframe\">\n",
       "  <thead>\n",
       "    <tr style=\"text-align: right;\">\n",
       "      <th></th>\n",
       "      <th>description</th>\n",
       "      <th>utterances</th>\n",
       "    </tr>\n",
       "  </thead>\n",
       "  <tbody>\n",
       "    <tr>\n",
       "      <th>0</th>\n",
       "      <td>throat a bit sore and want to get a good imune...</td>\n",
       "      <td>[patient: throat a bit sore and want to get a ...</td>\n",
       "    </tr>\n",
       "    <tr>\n",
       "      <th>1</th>\n",
       "      <td>hey there i have had cold \"symptoms\" for over ...</td>\n",
       "      <td>[patient: hey there i have had cold \"symptoms\"...</td>\n",
       "    </tr>\n",
       "    <tr>\n",
       "      <th>2</th>\n",
       "      <td>i have a tight and painful chest with a dry co...</td>\n",
       "      <td>[patient: i have a tight and painful chest wit...</td>\n",
       "    </tr>\n",
       "    <tr>\n",
       "      <th>3</th>\n",
       "      <td>what will happen after the incubation period f...</td>\n",
       "      <td>[patient: what will happen after the incubatio...</td>\n",
       "    </tr>\n",
       "    <tr>\n",
       "      <th>4</th>\n",
       "      <td>suggest treatment for pneumonia</td>\n",
       "      <td>[patient: just found out i was pregnant. yeste...</td>\n",
       "    </tr>\n",
       "  </tbody>\n",
       "</table>\n",
       "</div>"
      ],
      "text/plain": [
       "                                         description  \\\n",
       "0  throat a bit sore and want to get a good imune...   \n",
       "1  hey there i have had cold \"symptoms\" for over ...   \n",
       "2  i have a tight and painful chest with a dry co...   \n",
       "3  what will happen after the incubation period f...   \n",
       "4                    suggest treatment for pneumonia   \n",
       "\n",
       "                                          utterances  \n",
       "0  [patient: throat a bit sore and want to get a ...  \n",
       "1  [patient: hey there i have had cold \"symptoms\"...  \n",
       "2  [patient: i have a tight and painful chest wit...  \n",
       "3  [patient: what will happen after the incubatio...  \n",
       "4  [patient: just found out i was pregnant. yeste...  "
      ]
     },
     "execution_count": 4,
     "metadata": {},
     "output_type": "execute_result"
    }
   ],
   "source": [
    "df.head()"
   ]
  },
  {
   "cell_type": "code",
   "execution_count": 5,
   "metadata": {},
   "outputs": [],
   "source": [
    "dialog = []\n",
    "# make each sentence on a seperate row\n",
    "patient, doctor = zip(*df[\"utterances\"])\n",
    "for i in range(len(patient)):\n",
    "    dialog.append(patient[i])\n",
    "    dialog.append(doctor[i])\n",
    "\n",
    "dialog_df = pd.DataFrame({\"dialog\": dialog})\n",
    "# save the data to txt file\n",
    "dir_path = \"../data/data.txt\"\n",
    "dialog_df.to_csv(dir_path, sep=\" \", index=False)"
   ]
  },
  {
   "cell_type": "code",
   "execution_count": 6,
   "metadata": {},
   "outputs": [
    {
     "data": {
      "text/html": [
       "<div>\n",
       "<style scoped>\n",
       "    .dataframe tbody tr th:only-of-type {\n",
       "        vertical-align: middle;\n",
       "    }\n",
       "\n",
       "    .dataframe tbody tr th {\n",
       "        vertical-align: top;\n",
       "    }\n",
       "\n",
       "    .dataframe thead th {\n",
       "        text-align: right;\n",
       "    }\n",
       "</style>\n",
       "<table border=\"1\" class=\"dataframe\">\n",
       "  <thead>\n",
       "    <tr style=\"text-align: right;\">\n",
       "      <th></th>\n",
       "      <th>dialog</th>\n",
       "    </tr>\n",
       "  </thead>\n",
       "  <tbody>\n",
       "    <tr>\n",
       "      <th>0</th>\n",
       "      <td>patient: throat a bit sore and want to get a g...</td>\n",
       "    </tr>\n",
       "    <tr>\n",
       "      <th>1</th>\n",
       "      <td>doctor: during this pandemic. throat pain can ...</td>\n",
       "    </tr>\n",
       "    <tr>\n",
       "      <th>2</th>\n",
       "      <td>patient: hey there i have had cold \"symptoms\" ...</td>\n",
       "    </tr>\n",
       "    <tr>\n",
       "      <th>3</th>\n",
       "      <td>doctor: yes. protection. it is not enough symp...</td>\n",
       "    </tr>\n",
       "    <tr>\n",
       "      <th>4</th>\n",
       "      <td>patient: i have a tight and painful chest with...</td>\n",
       "    </tr>\n",
       "  </tbody>\n",
       "</table>\n",
       "</div>"
      ],
      "text/plain": [
       "                                              dialog\n",
       "0  patient: throat a bit sore and want to get a g...\n",
       "1  doctor: during this pandemic. throat pain can ...\n",
       "2  patient: hey there i have had cold \"symptoms\" ...\n",
       "3  doctor: yes. protection. it is not enough symp...\n",
       "4  patient: i have a tight and painful chest with..."
      ]
     },
     "execution_count": 6,
     "metadata": {},
     "output_type": "execute_result"
    }
   ],
   "source": [
    "dialog_df.head()"
   ]
  },
  {
   "cell_type": "code",
   "execution_count": 7,
   "metadata": {},
   "outputs": [],
   "source": [
    "# Embed the document and store into chroma DB\n",
    "# using sentence-transformers and chromadb\n",
    "loader = TextLoader(dir_path)\n",
    "index = VectorstoreIndexCreator(embedding=HuggingFaceEmbeddings()).from_loaders(\n",
    "    [loader]\n",
    ")"
   ]
  },
  {
   "cell_type": "code",
   "execution_count": 8,
   "metadata": {},
   "outputs": [
    {
     "name": "stdout",
     "output_type": "stream",
     "text": [
      "Found model file at  /root/.cache/gpt4all/ggml-gpt4all-j-v1.3-groovy.bin\n",
      "gptj_model_load: loading model from '/root/.cache/gpt4all/ggml-gpt4all-j-v1.3-groovy.bin' - please wait ...\n",
      "gptj_model_load: n_vocab = 50400\n",
      "gptj_model_load: n_ctx   = 2048\n",
      "gptj_model_load: n_embd  = 4096\n",
      "gptj_model_load: n_head  = 16\n",
      "gptj_model_load: n_layer = 28\n",
      "gptj_model_load: n_rot   = 64\n",
      "gptj_model_load: f16     = 2\n",
      "gptj_model_load: ggml ctx size = 5401.45 MB\n",
      "gptj_model_load: kv self size  =  896.00 MB\n",
      "gptj_model_load:  done\n",
      "gptj_model_load: model size =   153.08 MB / num tensors = 6\n"
     ]
    }
   ],
   "source": [
    "# Callbacks support token-wise streaming\n",
    "callbacks = [StreamingStdOutCallbackHandler()]\n",
    "\n",
    "# Verbose is required to pass to the callback manager\n",
    "llm = GPT4All(\n",
    "    model=\"ggml-gpt4all-j-v1.3-groovy.bin\",\n",
    "    callbacks=callbacks,\n",
    "    verbose=True,\n",
    "    backend=\"gptj\",\n",
    ")"
   ]
  },
  {
   "cell_type": "code",
   "execution_count": 9,
   "metadata": {},
   "outputs": [
    {
     "name": "stdout",
     "output_type": "stream",
     "text": [
      "Retrieving information related to your question...\n",
      "Found this content which is most similar to your question: \"doctor: in brief: standard precautions covid-19 is now official name for the illness caused by the newly discovered coronavirus (coronavirus infectious disease - 2019). so far it is extremely rare in the us (2/12/20). until and unless covid-19 becomes common no special precautions are necessary. in any dormitory or group living situation people with respiratory symptoms (colds, flu, etc.) should cover their coughs and wash hands frequently.\"\n",
      "\"patient: is gargling with listerine effective against corona virus induced sore throat? will it kill the virus? how about with mixture of warm water and salt, will this also kill virus!\"\n",
      "\"doctor: gargling. you can't be sure but it may help if you do those things as well as using zinc lozenges at the first sign of any throat discomfort and stay hydrated also. i recommend them. at least it'll do no harm.\"\n",
      "\"patient: i have tonsillitis long time ago and every year i feel allergic problem in my thort. about 7 days i feel same allergic problem in my thort and tongue i have 1 canker sore. i take just anti histamine. but ago i treat this with prednisone. does it covid 19?\"\n",
      "\"doctor: can call dr on video. throat pain can be from a strep throat infection (antibiotics needed), a cold or influenza, eb virus, or from some other cause such as allergies, irritants, or acid reflux. usually, a person sees the doctor (call first) if the sore throat is bothersome, recurrent, or doesn't go away quickly. covid-19 infections tend to have cough, whereas strep usually lacks cough but has more throat pain.\"\n",
      "\"patient: sore throat, ear ache, headache and a light cough. do i need to worry?\"\n",
      "\"doctor: in brief: may call dr on video throat symptoms can be from strep throat infection (antibiotics needed), a cold or influenza (antibiotics usually not used), or from some other cause such as allergies or irritants. usually, a person sees a doctor (call first) if the throat issue is bothersome, recurrent, or doesn't go away quickly. covid-19 infections tend to have cough, whereas strep usually lacks cough but has more throat pain. would you like to video or text chat with me?\"\n",
      "\"patient: i have had a sore throat for a few days, tuesday night it felt like tonsils, yesterday it started becoming scratchy and today i have started coughing and spitting mucus. i do not have a fever, but i get light headed here and there, could it be covid?\"\n",
      "\"doctor: test for covid-19. on this times better to be sure you don’t become contagious and spread the virus, try to get tested for covid-19.\"\n",
      "\"doctor: in brief: isolate sick people throat pain can be from a strep throat (antibiotics needed), a cold or influenza, or from some other cause such as allergies or irritants. usually, a person sees the doctor (call first) if the sore throat is bothersome, recurrent, or doesn't go away quickly. the flu or covid-19 usually have cough, fever, body aches; whereas strep is mainly sore throat. can call doctor by video or phone. (3/25/20) would you like to video or text chat with me?\"\n",
      "\"patient: what should i do if i feel sick, but am not sure if it's coronavirus?\"\n",
      "\"doctor: symptoms. first, symptomatic treatment at home, plenty fluids and rest. also apply all the preventive measures of social distancing. but if you are aware of any possible contact with an infected person, it is difficult to breath, fever does not low with bath or paracetamol, you are diabetic or with another chronic disease like hypertension, clinical attention should be asked for as soon as possible.\"\n"
     ]
    }
   ],
   "source": [
    "# perform similarity search and retrieve the context from our documents\n",
    "results = index.vectorstore.similarity_search(\n",
    "    \"what is the solution for soar throat\", k=4\n",
    ")\n",
    "\n",
    "# join all context information (top 4) into one string\n",
    "context = \"\\n\".join([document.page_content for document in results])\n",
    "print(f\"Retrieving information related to your question...\")\n",
    "print(f\"Found this content which is most similar to your question: {context}\")"
   ]
  },
  {
   "cell_type": "code",
   "execution_count": null,
   "metadata": {},
   "outputs": [],
   "source": []
  }
 ],
 "metadata": {
  "kernelspec": {
   "display_name": "langchain-tutorial-9TtSrW0h-py3.11",
   "language": "python",
   "name": "python3"
  },
  "language_info": {
   "codemirror_mode": {
    "name": "ipython",
    "version": 3
   },
   "file_extension": ".py",
   "mimetype": "text/x-python",
   "name": "python",
   "nbconvert_exporter": "python",
   "pygments_lexer": "ipython3",
   "version": "3.11.4"
  },
  "orig_nbformat": 4
 },
 "nbformat": 4,
 "nbformat_minor": 2
}
